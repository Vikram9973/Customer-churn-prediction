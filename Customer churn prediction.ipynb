{
 "cells": [
  {
   "cell_type": "code",
   "execution_count": 1,
   "id": "9bb86664",
   "metadata": {},
   "outputs": [],
   "source": [
    "import pandas as pd\n",
    "import numpy as np"
   ]
  },
  {
   "cell_type": "code",
   "execution_count": 2,
   "id": "f800e6f3",
   "metadata": {},
   "outputs": [],
   "source": [
    "df = pd.read_csv('C:\\\\Users\\\\Dell\\\\Downloads\\\\Churn_Modelling (1).csv')"
   ]
  },
  {
   "cell_type": "code",
   "execution_count": 3,
   "id": "6cd8bbd5",
   "metadata": {},
   "outputs": [
    {
     "data": {
      "text/html": [
       "<div>\n",
       "<style scoped>\n",
       "    .dataframe tbody tr th:only-of-type {\n",
       "        vertical-align: middle;\n",
       "    }\n",
       "\n",
       "    .dataframe tbody tr th {\n",
       "        vertical-align: top;\n",
       "    }\n",
       "\n",
       "    .dataframe thead th {\n",
       "        text-align: right;\n",
       "    }\n",
       "</style>\n",
       "<table border=\"1\" class=\"dataframe\">\n",
       "  <thead>\n",
       "    <tr style=\"text-align: right;\">\n",
       "      <th></th>\n",
       "      <th>RowNumber</th>\n",
       "      <th>CustomerId</th>\n",
       "      <th>Surname</th>\n",
       "      <th>CreditScore</th>\n",
       "      <th>Geography</th>\n",
       "      <th>Gender</th>\n",
       "      <th>Age</th>\n",
       "      <th>Tenure</th>\n",
       "      <th>Balance</th>\n",
       "      <th>NumOfProducts</th>\n",
       "      <th>HasCrCard</th>\n",
       "      <th>IsActiveMember</th>\n",
       "      <th>EstimatedSalary</th>\n",
       "      <th>Exited</th>\n",
       "    </tr>\n",
       "  </thead>\n",
       "  <tbody>\n",
       "    <tr>\n",
       "      <th>0</th>\n",
       "      <td>1</td>\n",
       "      <td>15634602</td>\n",
       "      <td>Hargrave</td>\n",
       "      <td>619</td>\n",
       "      <td>France</td>\n",
       "      <td>Female</td>\n",
       "      <td>42</td>\n",
       "      <td>2</td>\n",
       "      <td>0.00</td>\n",
       "      <td>1</td>\n",
       "      <td>1</td>\n",
       "      <td>1</td>\n",
       "      <td>101348.88</td>\n",
       "      <td>1</td>\n",
       "    </tr>\n",
       "    <tr>\n",
       "      <th>1</th>\n",
       "      <td>2</td>\n",
       "      <td>15647311</td>\n",
       "      <td>Hill</td>\n",
       "      <td>608</td>\n",
       "      <td>Spain</td>\n",
       "      <td>Female</td>\n",
       "      <td>41</td>\n",
       "      <td>1</td>\n",
       "      <td>83807.86</td>\n",
       "      <td>1</td>\n",
       "      <td>0</td>\n",
       "      <td>1</td>\n",
       "      <td>112542.58</td>\n",
       "      <td>0</td>\n",
       "    </tr>\n",
       "    <tr>\n",
       "      <th>2</th>\n",
       "      <td>3</td>\n",
       "      <td>15619304</td>\n",
       "      <td>Onio</td>\n",
       "      <td>502</td>\n",
       "      <td>France</td>\n",
       "      <td>Female</td>\n",
       "      <td>42</td>\n",
       "      <td>8</td>\n",
       "      <td>159660.80</td>\n",
       "      <td>3</td>\n",
       "      <td>1</td>\n",
       "      <td>0</td>\n",
       "      <td>113931.57</td>\n",
       "      <td>1</td>\n",
       "    </tr>\n",
       "    <tr>\n",
       "      <th>3</th>\n",
       "      <td>4</td>\n",
       "      <td>15701354</td>\n",
       "      <td>Boni</td>\n",
       "      <td>699</td>\n",
       "      <td>France</td>\n",
       "      <td>Female</td>\n",
       "      <td>39</td>\n",
       "      <td>1</td>\n",
       "      <td>0.00</td>\n",
       "      <td>2</td>\n",
       "      <td>0</td>\n",
       "      <td>0</td>\n",
       "      <td>93826.63</td>\n",
       "      <td>0</td>\n",
       "    </tr>\n",
       "    <tr>\n",
       "      <th>4</th>\n",
       "      <td>5</td>\n",
       "      <td>15737888</td>\n",
       "      <td>Mitchell</td>\n",
       "      <td>850</td>\n",
       "      <td>Spain</td>\n",
       "      <td>Female</td>\n",
       "      <td>43</td>\n",
       "      <td>2</td>\n",
       "      <td>125510.82</td>\n",
       "      <td>1</td>\n",
       "      <td>1</td>\n",
       "      <td>1</td>\n",
       "      <td>79084.10</td>\n",
       "      <td>0</td>\n",
       "    </tr>\n",
       "  </tbody>\n",
       "</table>\n",
       "</div>"
      ],
      "text/plain": [
       "   RowNumber  CustomerId   Surname  CreditScore Geography  Gender  Age  \\\n",
       "0          1    15634602  Hargrave          619    France  Female   42   \n",
       "1          2    15647311      Hill          608     Spain  Female   41   \n",
       "2          3    15619304      Onio          502    France  Female   42   \n",
       "3          4    15701354      Boni          699    France  Female   39   \n",
       "4          5    15737888  Mitchell          850     Spain  Female   43   \n",
       "\n",
       "   Tenure    Balance  NumOfProducts  HasCrCard  IsActiveMember  \\\n",
       "0       2       0.00              1          1               1   \n",
       "1       1   83807.86              1          0               1   \n",
       "2       8  159660.80              3          1               0   \n",
       "3       1       0.00              2          0               0   \n",
       "4       2  125510.82              1          1               1   \n",
       "\n",
       "   EstimatedSalary  Exited  \n",
       "0        101348.88       1  \n",
       "1        112542.58       0  \n",
       "2        113931.57       1  \n",
       "3         93826.63       0  \n",
       "4         79084.10       0  "
      ]
     },
     "execution_count": 3,
     "metadata": {},
     "output_type": "execute_result"
    }
   ],
   "source": [
    "df.head()"
   ]
  },
  {
   "cell_type": "code",
   "execution_count": 4,
   "id": "434fa456",
   "metadata": {},
   "outputs": [
    {
     "data": {
      "text/plain": [
       "(10000, 14)"
      ]
     },
     "execution_count": 4,
     "metadata": {},
     "output_type": "execute_result"
    }
   ],
   "source": [
    "df.shape"
   ]
  },
  {
   "cell_type": "code",
   "execution_count": 5,
   "id": "011accb3",
   "metadata": {},
   "outputs": [
    {
     "data": {
      "text/plain": [
       "RowNumber          0\n",
       "CustomerId         0\n",
       "Surname            0\n",
       "CreditScore        0\n",
       "Geography          0\n",
       "Gender             0\n",
       "Age                0\n",
       "Tenure             0\n",
       "Balance            0\n",
       "NumOfProducts      0\n",
       "HasCrCard          0\n",
       "IsActiveMember     0\n",
       "EstimatedSalary    0\n",
       "Exited             0\n",
       "dtype: int64"
      ]
     },
     "execution_count": 5,
     "metadata": {},
     "output_type": "execute_result"
    }
   ],
   "source": [
    "df.isnull().sum()"
   ]
  },
  {
   "cell_type": "code",
   "execution_count": 6,
   "id": "36bbf566",
   "metadata": {},
   "outputs": [
    {
     "data": {
      "text/plain": [
       "0"
      ]
     },
     "execution_count": 6,
     "metadata": {},
     "output_type": "execute_result"
    }
   ],
   "source": [
    "df.duplicated().sum()"
   ]
  },
  {
   "cell_type": "code",
   "execution_count": 7,
   "id": "dab3935e",
   "metadata": {},
   "outputs": [
    {
     "data": {
      "text/plain": [
       "Exited\n",
       "0    7963\n",
       "1    2037\n",
       "Name: count, dtype: int64"
      ]
     },
     "execution_count": 7,
     "metadata": {},
     "output_type": "execute_result"
    }
   ],
   "source": [
    "df['Exited'].value_counts()"
   ]
  },
  {
   "cell_type": "code",
   "execution_count": 8,
   "id": "ec8c6aaf",
   "metadata": {},
   "outputs": [
    {
     "data": {
      "text/plain": [
       "Gender\n",
       "Male      5457\n",
       "Female    4543\n",
       "Name: count, dtype: int64"
      ]
     },
     "execution_count": 8,
     "metadata": {},
     "output_type": "execute_result"
    }
   ],
   "source": [
    "df['Gender'].value_counts()"
   ]
  },
  {
   "cell_type": "code",
   "execution_count": 9,
   "id": "2743ea01",
   "metadata": {},
   "outputs": [],
   "source": [
    "df.drop(columns = [\"RowNumber\",\"CustomerId\", \"Surname\"], inplace = True)"
   ]
  },
  {
   "cell_type": "code",
   "execution_count": 10,
   "id": "a40a1cec",
   "metadata": {},
   "outputs": [
    {
     "data": {
      "text/html": [
       "<div>\n",
       "<style scoped>\n",
       "    .dataframe tbody tr th:only-of-type {\n",
       "        vertical-align: middle;\n",
       "    }\n",
       "\n",
       "    .dataframe tbody tr th {\n",
       "        vertical-align: top;\n",
       "    }\n",
       "\n",
       "    .dataframe thead th {\n",
       "        text-align: right;\n",
       "    }\n",
       "</style>\n",
       "<table border=\"1\" class=\"dataframe\">\n",
       "  <thead>\n",
       "    <tr style=\"text-align: right;\">\n",
       "      <th></th>\n",
       "      <th>CreditScore</th>\n",
       "      <th>Geography</th>\n",
       "      <th>Gender</th>\n",
       "      <th>Age</th>\n",
       "      <th>Tenure</th>\n",
       "      <th>Balance</th>\n",
       "      <th>NumOfProducts</th>\n",
       "      <th>HasCrCard</th>\n",
       "      <th>IsActiveMember</th>\n",
       "      <th>EstimatedSalary</th>\n",
       "      <th>Exited</th>\n",
       "    </tr>\n",
       "  </thead>\n",
       "  <tbody>\n",
       "    <tr>\n",
       "      <th>0</th>\n",
       "      <td>619</td>\n",
       "      <td>France</td>\n",
       "      <td>Female</td>\n",
       "      <td>42</td>\n",
       "      <td>2</td>\n",
       "      <td>0.00</td>\n",
       "      <td>1</td>\n",
       "      <td>1</td>\n",
       "      <td>1</td>\n",
       "      <td>101348.88</td>\n",
       "      <td>1</td>\n",
       "    </tr>\n",
       "    <tr>\n",
       "      <th>1</th>\n",
       "      <td>608</td>\n",
       "      <td>Spain</td>\n",
       "      <td>Female</td>\n",
       "      <td>41</td>\n",
       "      <td>1</td>\n",
       "      <td>83807.86</td>\n",
       "      <td>1</td>\n",
       "      <td>0</td>\n",
       "      <td>1</td>\n",
       "      <td>112542.58</td>\n",
       "      <td>0</td>\n",
       "    </tr>\n",
       "    <tr>\n",
       "      <th>2</th>\n",
       "      <td>502</td>\n",
       "      <td>France</td>\n",
       "      <td>Female</td>\n",
       "      <td>42</td>\n",
       "      <td>8</td>\n",
       "      <td>159660.80</td>\n",
       "      <td>3</td>\n",
       "      <td>1</td>\n",
       "      <td>0</td>\n",
       "      <td>113931.57</td>\n",
       "      <td>1</td>\n",
       "    </tr>\n",
       "    <tr>\n",
       "      <th>3</th>\n",
       "      <td>699</td>\n",
       "      <td>France</td>\n",
       "      <td>Female</td>\n",
       "      <td>39</td>\n",
       "      <td>1</td>\n",
       "      <td>0.00</td>\n",
       "      <td>2</td>\n",
       "      <td>0</td>\n",
       "      <td>0</td>\n",
       "      <td>93826.63</td>\n",
       "      <td>0</td>\n",
       "    </tr>\n",
       "  </tbody>\n",
       "</table>\n",
       "</div>"
      ],
      "text/plain": [
       "   CreditScore Geography  Gender  Age  Tenure    Balance  NumOfProducts  \\\n",
       "0          619    France  Female   42       2       0.00              1   \n",
       "1          608     Spain  Female   41       1   83807.86              1   \n",
       "2          502    France  Female   42       8  159660.80              3   \n",
       "3          699    France  Female   39       1       0.00              2   \n",
       "\n",
       "   HasCrCard  IsActiveMember  EstimatedSalary  Exited  \n",
       "0          1               1        101348.88       1  \n",
       "1          0               1        112542.58       0  \n",
       "2          1               0        113931.57       1  \n",
       "3          0               0         93826.63       0  "
      ]
     },
     "execution_count": 10,
     "metadata": {},
     "output_type": "execute_result"
    }
   ],
   "source": [
    "df.head(4)"
   ]
  },
  {
   "cell_type": "code",
   "execution_count": 11,
   "id": "e3e3950f",
   "metadata": {},
   "outputs": [],
   "source": [
    "df = pd.get_dummies(df,columns=[\"Geography\", \"Gender\"],drop_first= True)"
   ]
  },
  {
   "cell_type": "code",
   "execution_count": 12,
   "id": "25506d5f",
   "metadata": {},
   "outputs": [],
   "source": [
    "df = df.astype(int)"
   ]
  },
  {
   "cell_type": "code",
   "execution_count": 13,
   "id": "0518da34",
   "metadata": {},
   "outputs": [
    {
     "data": {
      "text/html": [
       "<div>\n",
       "<style scoped>\n",
       "    .dataframe tbody tr th:only-of-type {\n",
       "        vertical-align: middle;\n",
       "    }\n",
       "\n",
       "    .dataframe tbody tr th {\n",
       "        vertical-align: top;\n",
       "    }\n",
       "\n",
       "    .dataframe thead th {\n",
       "        text-align: right;\n",
       "    }\n",
       "</style>\n",
       "<table border=\"1\" class=\"dataframe\">\n",
       "  <thead>\n",
       "    <tr style=\"text-align: right;\">\n",
       "      <th></th>\n",
       "      <th>CreditScore</th>\n",
       "      <th>Age</th>\n",
       "      <th>Tenure</th>\n",
       "      <th>Balance</th>\n",
       "      <th>NumOfProducts</th>\n",
       "      <th>HasCrCard</th>\n",
       "      <th>IsActiveMember</th>\n",
       "      <th>EstimatedSalary</th>\n",
       "      <th>Exited</th>\n",
       "      <th>Geography_Germany</th>\n",
       "      <th>Geography_Spain</th>\n",
       "      <th>Gender_Male</th>\n",
       "    </tr>\n",
       "  </thead>\n",
       "  <tbody>\n",
       "    <tr>\n",
       "      <th>0</th>\n",
       "      <td>619</td>\n",
       "      <td>42</td>\n",
       "      <td>2</td>\n",
       "      <td>0</td>\n",
       "      <td>1</td>\n",
       "      <td>1</td>\n",
       "      <td>1</td>\n",
       "      <td>101348</td>\n",
       "      <td>1</td>\n",
       "      <td>0</td>\n",
       "      <td>0</td>\n",
       "      <td>0</td>\n",
       "    </tr>\n",
       "    <tr>\n",
       "      <th>1</th>\n",
       "      <td>608</td>\n",
       "      <td>41</td>\n",
       "      <td>1</td>\n",
       "      <td>83807</td>\n",
       "      <td>1</td>\n",
       "      <td>0</td>\n",
       "      <td>1</td>\n",
       "      <td>112542</td>\n",
       "      <td>0</td>\n",
       "      <td>0</td>\n",
       "      <td>1</td>\n",
       "      <td>0</td>\n",
       "    </tr>\n",
       "    <tr>\n",
       "      <th>2</th>\n",
       "      <td>502</td>\n",
       "      <td>42</td>\n",
       "      <td>8</td>\n",
       "      <td>159660</td>\n",
       "      <td>3</td>\n",
       "      <td>1</td>\n",
       "      <td>0</td>\n",
       "      <td>113931</td>\n",
       "      <td>1</td>\n",
       "      <td>0</td>\n",
       "      <td>0</td>\n",
       "      <td>0</td>\n",
       "    </tr>\n",
       "    <tr>\n",
       "      <th>3</th>\n",
       "      <td>699</td>\n",
       "      <td>39</td>\n",
       "      <td>1</td>\n",
       "      <td>0</td>\n",
       "      <td>2</td>\n",
       "      <td>0</td>\n",
       "      <td>0</td>\n",
       "      <td>93826</td>\n",
       "      <td>0</td>\n",
       "      <td>0</td>\n",
       "      <td>0</td>\n",
       "      <td>0</td>\n",
       "    </tr>\n",
       "    <tr>\n",
       "      <th>4</th>\n",
       "      <td>850</td>\n",
       "      <td>43</td>\n",
       "      <td>2</td>\n",
       "      <td>125510</td>\n",
       "      <td>1</td>\n",
       "      <td>1</td>\n",
       "      <td>1</td>\n",
       "      <td>79084</td>\n",
       "      <td>0</td>\n",
       "      <td>0</td>\n",
       "      <td>1</td>\n",
       "      <td>0</td>\n",
       "    </tr>\n",
       "  </tbody>\n",
       "</table>\n",
       "</div>"
      ],
      "text/plain": [
       "   CreditScore  Age  Tenure  Balance  NumOfProducts  HasCrCard  \\\n",
       "0          619   42       2        0              1          1   \n",
       "1          608   41       1    83807              1          0   \n",
       "2          502   42       8   159660              3          1   \n",
       "3          699   39       1        0              2          0   \n",
       "4          850   43       2   125510              1          1   \n",
       "\n",
       "   IsActiveMember  EstimatedSalary  Exited  Geography_Germany  \\\n",
       "0               1           101348       1                  0   \n",
       "1               1           112542       0                  0   \n",
       "2               0           113931       1                  0   \n",
       "3               0            93826       0                  0   \n",
       "4               1            79084       0                  0   \n",
       "\n",
       "   Geography_Spain  Gender_Male  \n",
       "0                0            0  \n",
       "1                1            0  \n",
       "2                0            0  \n",
       "3                0            0  \n",
       "4                1            0  "
      ]
     },
     "execution_count": 13,
     "metadata": {},
     "output_type": "execute_result"
    }
   ],
   "source": [
    "df.head(5)"
   ]
  },
  {
   "cell_type": "code",
   "execution_count": 14,
   "id": "563dbe45",
   "metadata": {},
   "outputs": [],
   "source": [
    "X = df.drop(columns= ['Exited'])\n",
    "y = df['Exited']\n",
    "from sklearn.model_selection import train_test_split\n",
    "(X_train, X_test, y_train, y_test) = train_test_split(X, y, test_size =0.2, random_state = 10)"
   ]
  },
  {
   "cell_type": "code",
   "execution_count": 15,
   "id": "a885c383",
   "metadata": {},
   "outputs": [
    {
     "data": {
      "text/plain": [
       "(2000, 11)"
      ]
     },
     "execution_count": 15,
     "metadata": {},
     "output_type": "execute_result"
    }
   ],
   "source": [
    "X_test.shape"
   ]
  },
  {
   "cell_type": "code",
   "execution_count": 16,
   "id": "3798218f",
   "metadata": {},
   "outputs": [
    {
     "data": {
      "text/plain": [
       "(2000,)"
      ]
     },
     "execution_count": 16,
     "metadata": {},
     "output_type": "execute_result"
    }
   ],
   "source": [
    "y_test.shape"
   ]
  },
  {
   "cell_type": "code",
   "execution_count": 17,
   "id": "d6b2cf34",
   "metadata": {},
   "outputs": [],
   "source": [
    "from sklearn.preprocessing import StandardScaler\n",
    "scaler = StandardScaler()\n",
    "X_train_scaled = scaler.fit_transform(X_train)\n",
    "X_test_scaled = scaler.transform(X_test)"
   ]
  },
  {
   "cell_type": "code",
   "execution_count": 18,
   "id": "a13eb306",
   "metadata": {},
   "outputs": [
    {
     "data": {
      "text/plain": [
       "array([[ 1.78974378,  0.94394225,  1.04271518, ...,  1.73436329,\n",
       "        -0.57388614,  0.91255717],\n",
       "       [ 0.26040483,  2.35932486, -0.35053238, ..., -0.57658047,\n",
       "         1.74250594, -1.09582175],\n",
       "       [-0.22526362, -0.47144036,  0.3460914 , ..., -0.57658047,\n",
       "         1.74250594,  0.91255717],\n",
       "       ...,\n",
       "       [-1.97160337,  0.09471269,  0.3460914 , ...,  1.73436329,\n",
       "        -0.57388614, -1.09582175],\n",
       "       [ 0.60140608, -0.47144036, -1.04715616, ..., -0.57658047,\n",
       "        -0.57388614, -1.09582175],\n",
       "       [ 0.21907135,  0.09471269,  1.73933896, ...,  1.73436329,\n",
       "        -0.57388614,  0.91255717]])"
      ]
     },
     "execution_count": 18,
     "metadata": {},
     "output_type": "execute_result"
    }
   ],
   "source": [
    "X_train_scaled"
   ]
  },
  {
   "cell_type": "code",
   "execution_count": 27,
   "id": "1198105c",
   "metadata": {},
   "outputs": [],
   "source": [
    "import tensorflow as tf\n",
    "from tensorflow import keras\n",
    "from tensorflow.keras import Sequential\n",
    "from tensorflow.keras.layers import Dense"
   ]
  },
  {
   "cell_type": "code",
   "execution_count": 101,
   "id": "73ee6b9d",
   "metadata": {},
   "outputs": [],
   "source": [
    "model = Sequential()\n",
    "model.add(Dense(11, activation = 'relu', input_dim = 11)),\n",
    "model.add(Dense(7,activation = 'relu')),\n",
    "model.add(Dense(1,activation = 'sigmoid'))"
   ]
  },
  {
   "cell_type": "code",
   "execution_count": 102,
   "id": "3f674ebc",
   "metadata": {},
   "outputs": [
    {
     "name": "stdout",
     "output_type": "stream",
     "text": [
      "Model: \"sequential_5\"\n",
      "_________________________________________________________________\n",
      " Layer (type)                Output Shape              Param #   \n",
      "=================================================================\n",
      " dense_12 (Dense)            (None, 11)                132       \n",
      "                                                                 \n",
      " dense_13 (Dense)            (None, 7)                 84        \n",
      "                                                                 \n",
      " dense_14 (Dense)            (None, 1)                 8         \n",
      "                                                                 \n",
      "=================================================================\n",
      "Total params: 224 (896.00 Byte)\n",
      "Trainable params: 224 (896.00 Byte)\n",
      "Non-trainable params: 0 (0.00 Byte)\n",
      "_________________________________________________________________\n"
     ]
    }
   ],
   "source": [
    "model.summary()"
   ]
  },
  {
   "cell_type": "code",
   "execution_count": 103,
   "id": "bedc597e",
   "metadata": {},
   "outputs": [],
   "source": [
    "model.compile(loss ='binary_crossentropy', optimizer = 'Adam', metrics = ['accuracy'])"
   ]
  },
  {
   "cell_type": "code",
   "execution_count": 104,
   "id": "30b16fc9",
   "metadata": {},
   "outputs": [
    {
     "name": "stdout",
     "output_type": "stream",
     "text": [
      "Epoch 1/50\n",
      "200/200 [==============================] - 3s 6ms/step - loss: 0.5321 - accuracy: 0.7619 - val_loss: 0.4419 - val_accuracy: 0.8194\n",
      "Epoch 2/50\n",
      "200/200 [==============================] - 1s 4ms/step - loss: 0.4357 - accuracy: 0.8141 - val_loss: 0.4129 - val_accuracy: 0.8244\n",
      "Epoch 3/50\n",
      "200/200 [==============================] - 1s 4ms/step - loss: 0.4093 - accuracy: 0.8309 - val_loss: 0.3941 - val_accuracy: 0.8344\n",
      "Epoch 4/50\n",
      "200/200 [==============================] - 1s 4ms/step - loss: 0.3894 - accuracy: 0.8422 - val_loss: 0.3797 - val_accuracy: 0.8406\n",
      "Epoch 5/50\n",
      "200/200 [==============================] - 1s 4ms/step - loss: 0.3731 - accuracy: 0.8498 - val_loss: 0.3693 - val_accuracy: 0.8456\n",
      "Epoch 6/50\n",
      "200/200 [==============================] - 1s 4ms/step - loss: 0.3613 - accuracy: 0.8527 - val_loss: 0.3613 - val_accuracy: 0.8456\n",
      "Epoch 7/50\n",
      "200/200 [==============================] - 1s 4ms/step - loss: 0.3532 - accuracy: 0.8591 - val_loss: 0.3548 - val_accuracy: 0.8550\n",
      "Epoch 8/50\n",
      "200/200 [==============================] - 1s 4ms/step - loss: 0.3481 - accuracy: 0.8587 - val_loss: 0.3506 - val_accuracy: 0.8587\n",
      "Epoch 9/50\n",
      "200/200 [==============================] - 1s 4ms/step - loss: 0.3446 - accuracy: 0.8609 - val_loss: 0.3491 - val_accuracy: 0.8594\n",
      "Epoch 10/50\n",
      "200/200 [==============================] - 1s 4ms/step - loss: 0.3415 - accuracy: 0.8622 - val_loss: 0.3473 - val_accuracy: 0.8619\n",
      "Epoch 11/50\n",
      "200/200 [==============================] - 1s 4ms/step - loss: 0.3392 - accuracy: 0.8644 - val_loss: 0.3451 - val_accuracy: 0.8644\n",
      "Epoch 12/50\n",
      "200/200 [==============================] - 1s 4ms/step - loss: 0.3379 - accuracy: 0.8642 - val_loss: 0.3451 - val_accuracy: 0.8625\n",
      "Epoch 13/50\n",
      "200/200 [==============================] - 1s 4ms/step - loss: 0.3367 - accuracy: 0.8623 - val_loss: 0.3438 - val_accuracy: 0.8625\n",
      "Epoch 14/50\n",
      "200/200 [==============================] - 1s 4ms/step - loss: 0.3353 - accuracy: 0.8637 - val_loss: 0.3433 - val_accuracy: 0.8600\n",
      "Epoch 15/50\n",
      "200/200 [==============================] - 1s 4ms/step - loss: 0.3347 - accuracy: 0.8633 - val_loss: 0.3405 - val_accuracy: 0.8662\n",
      "Epoch 16/50\n",
      "200/200 [==============================] - 1s 4ms/step - loss: 0.3337 - accuracy: 0.8644 - val_loss: 0.3405 - val_accuracy: 0.8625\n",
      "Epoch 17/50\n",
      "200/200 [==============================] - 1s 4ms/step - loss: 0.3327 - accuracy: 0.8644 - val_loss: 0.3427 - val_accuracy: 0.8606\n",
      "Epoch 18/50\n",
      "200/200 [==============================] - 1s 4ms/step - loss: 0.3323 - accuracy: 0.8642 - val_loss: 0.3399 - val_accuracy: 0.8625\n",
      "Epoch 19/50\n",
      "200/200 [==============================] - 1s 4ms/step - loss: 0.3316 - accuracy: 0.8641 - val_loss: 0.3405 - val_accuracy: 0.8606\n",
      "Epoch 20/50\n",
      "200/200 [==============================] - 1s 4ms/step - loss: 0.3308 - accuracy: 0.8658 - val_loss: 0.3411 - val_accuracy: 0.8587\n",
      "Epoch 21/50\n",
      "200/200 [==============================] - 1s 4ms/step - loss: 0.3300 - accuracy: 0.8648 - val_loss: 0.3412 - val_accuracy: 0.8612\n",
      "Epoch 22/50\n",
      "200/200 [==============================] - 1s 4ms/step - loss: 0.3301 - accuracy: 0.8644 - val_loss: 0.3380 - val_accuracy: 0.8662\n",
      "Epoch 23/50\n",
      "200/200 [==============================] - 1s 4ms/step - loss: 0.3290 - accuracy: 0.8656 - val_loss: 0.3389 - val_accuracy: 0.8625\n",
      "Epoch 24/50\n",
      "200/200 [==============================] - 1s 4ms/step - loss: 0.3286 - accuracy: 0.8628 - val_loss: 0.3380 - val_accuracy: 0.8656\n",
      "Epoch 25/50\n",
      "200/200 [==============================] - 1s 4ms/step - loss: 0.3281 - accuracy: 0.8650 - val_loss: 0.3373 - val_accuracy: 0.8656\n",
      "Epoch 26/50\n",
      "200/200 [==============================] - 1s 4ms/step - loss: 0.3277 - accuracy: 0.8658 - val_loss: 0.3382 - val_accuracy: 0.8662\n",
      "Epoch 27/50\n",
      "200/200 [==============================] - 1s 4ms/step - loss: 0.3270 - accuracy: 0.8662 - val_loss: 0.3384 - val_accuracy: 0.8669\n",
      "Epoch 28/50\n",
      "200/200 [==============================] - 1s 4ms/step - loss: 0.3267 - accuracy: 0.8669 - val_loss: 0.3379 - val_accuracy: 0.8662\n",
      "Epoch 29/50\n",
      "200/200 [==============================] - 1s 4ms/step - loss: 0.3259 - accuracy: 0.8655 - val_loss: 0.3395 - val_accuracy: 0.8619\n",
      "Epoch 30/50\n",
      "200/200 [==============================] - 1s 4ms/step - loss: 0.3258 - accuracy: 0.8648 - val_loss: 0.3371 - val_accuracy: 0.8675\n",
      "Epoch 31/50\n",
      "200/200 [==============================] - 1s 4ms/step - loss: 0.3253 - accuracy: 0.8653 - val_loss: 0.3382 - val_accuracy: 0.8637\n",
      "Epoch 32/50\n",
      "200/200 [==============================] - 1s 4ms/step - loss: 0.3251 - accuracy: 0.8652 - val_loss: 0.3372 - val_accuracy: 0.8662\n",
      "Epoch 33/50\n",
      "200/200 [==============================] - 1s 4ms/step - loss: 0.3245 - accuracy: 0.8659 - val_loss: 0.3382 - val_accuracy: 0.8669\n",
      "Epoch 34/50\n",
      "200/200 [==============================] - 1s 4ms/step - loss: 0.3241 - accuracy: 0.8677 - val_loss: 0.3369 - val_accuracy: 0.8644\n",
      "Epoch 35/50\n",
      "200/200 [==============================] - 1s 4ms/step - loss: 0.3235 - accuracy: 0.8656 - val_loss: 0.3377 - val_accuracy: 0.8650\n",
      "Epoch 36/50\n",
      "200/200 [==============================] - 1s 4ms/step - loss: 0.3235 - accuracy: 0.8664 - val_loss: 0.3362 - val_accuracy: 0.8650\n",
      "Epoch 37/50\n",
      "200/200 [==============================] - 1s 4ms/step - loss: 0.3234 - accuracy: 0.8662 - val_loss: 0.3366 - val_accuracy: 0.8650\n",
      "Epoch 38/50\n",
      "200/200 [==============================] - 1s 4ms/step - loss: 0.3232 - accuracy: 0.8666 - val_loss: 0.3364 - val_accuracy: 0.8644\n",
      "Epoch 39/50\n",
      "200/200 [==============================] - 1s 4ms/step - loss: 0.3225 - accuracy: 0.8633 - val_loss: 0.3376 - val_accuracy: 0.8669\n",
      "Epoch 40/50\n",
      "200/200 [==============================] - 1s 4ms/step - loss: 0.3223 - accuracy: 0.8647 - val_loss: 0.3397 - val_accuracy: 0.8631\n",
      "Epoch 41/50\n",
      "200/200 [==============================] - 1s 4ms/step - loss: 0.3220 - accuracy: 0.8655 - val_loss: 0.3375 - val_accuracy: 0.8637\n",
      "Epoch 42/50\n",
      "200/200 [==============================] - 1s 4ms/step - loss: 0.3224 - accuracy: 0.8655 - val_loss: 0.3375 - val_accuracy: 0.8669\n",
      "Epoch 43/50\n",
      "200/200 [==============================] - 1s 4ms/step - loss: 0.3209 - accuracy: 0.8656 - val_loss: 0.3399 - val_accuracy: 0.8631\n",
      "Epoch 44/50\n",
      "200/200 [==============================] - 1s 4ms/step - loss: 0.3216 - accuracy: 0.8673 - val_loss: 0.3377 - val_accuracy: 0.8662\n",
      "Epoch 45/50\n",
      "200/200 [==============================] - 1s 4ms/step - loss: 0.3213 - accuracy: 0.8656 - val_loss: 0.3367 - val_accuracy: 0.8650\n",
      "Epoch 46/50\n",
      "200/200 [==============================] - 1s 4ms/step - loss: 0.3209 - accuracy: 0.8666 - val_loss: 0.3394 - val_accuracy: 0.8644\n",
      "Epoch 47/50\n",
      "200/200 [==============================] - 1s 4ms/step - loss: 0.3214 - accuracy: 0.8641 - val_loss: 0.3370 - val_accuracy: 0.8650\n",
      "Epoch 48/50\n",
      "200/200 [==============================] - 1s 4ms/step - loss: 0.3207 - accuracy: 0.8662 - val_loss: 0.3370 - val_accuracy: 0.8650\n",
      "Epoch 49/50\n",
      "200/200 [==============================] - 1s 4ms/step - loss: 0.3203 - accuracy: 0.8659 - val_loss: 0.3394 - val_accuracy: 0.8625\n",
      "Epoch 50/50\n",
      "200/200 [==============================] - 1s 4ms/step - loss: 0.3205 - accuracy: 0.8664 - val_loss: 0.3381 - val_accuracy: 0.8650\n"
     ]
    }
   ],
   "source": [
    "hist = model.fit(X_train_scaled, y_train, epochs = 50, validation_split = 0.2)"
   ]
  },
  {
   "cell_type": "code",
   "execution_count": 105,
   "id": "61422e6b",
   "metadata": {},
   "outputs": [
    {
     "name": "stdout",
     "output_type": "stream",
     "text": [
      "250/250 [==============================] - 1s 3ms/step - loss: 0.3219 - accuracy: 0.8652\n"
     ]
    },
    {
     "data": {
      "text/plain": [
       "[0.3218916952610016, 0.8652499914169312]"
      ]
     },
     "execution_count": 105,
     "metadata": {},
     "output_type": "execute_result"
    }
   ],
   "source": [
    "model.evaluate(X_train_scaled, y_train)"
   ]
  },
  {
   "cell_type": "code",
   "execution_count": 106,
   "id": "46ac5616",
   "metadata": {},
   "outputs": [
    {
     "data": {
      "text/plain": [
       "[array([[ 0.9267394 ],\n",
       "        [ 0.6486236 ],\n",
       "        [-0.9690056 ],\n",
       "        [-0.44603348],\n",
       "        [-0.46500957],\n",
       "        [ 0.9517501 ],\n",
       "        [-1.5390297 ]], dtype=float32),\n",
       " array([-0.10424481], dtype=float32)]"
      ]
     },
     "execution_count": 106,
     "metadata": {},
     "output_type": "execute_result"
    }
   ],
   "source": [
    "model.layers[2].get_weights()"
   ]
  },
  {
   "cell_type": "code",
   "execution_count": 107,
   "id": "cdda550e",
   "metadata": {},
   "outputs": [
    {
     "name": "stdout",
     "output_type": "stream",
     "text": [
      "63/63 [==============================] - 0s 3ms/step\n"
     ]
    }
   ],
   "source": [
    "y_log = model.predict(X_test_scaled)"
   ]
  },
  {
   "cell_type": "code",
   "execution_count": 108,
   "id": "3cf08cc4",
   "metadata": {},
   "outputs": [],
   "source": [
    "y_pred = np.where(y_log>0.5,1,0)"
   ]
  },
  {
   "cell_type": "code",
   "execution_count": 109,
   "id": "1d8cbcba",
   "metadata": {},
   "outputs": [
    {
     "data": {
      "text/plain": [
       "array([0])"
      ]
     },
     "execution_count": 109,
     "metadata": {},
     "output_type": "execute_result"
    }
   ],
   "source": [
    "y_pred[0]"
   ]
  },
  {
   "cell_type": "code",
   "execution_count": 110,
   "id": "c5f46668",
   "metadata": {},
   "outputs": [
    {
     "data": {
      "text/plain": [
       "0.8495"
      ]
     },
     "execution_count": 110,
     "metadata": {},
     "output_type": "execute_result"
    }
   ],
   "source": [
    " from sklearn.metrics import accuracy_score\n",
    "accuracy_score(y_test, y_pred)"
   ]
  },
  {
   "cell_type": "code",
   "execution_count": 111,
   "id": "da6f1c19",
   "metadata": {},
   "outputs": [],
   "source": [
    "import matplotlib.pyplot as plt"
   ]
  },
  {
   "cell_type": "code",
   "execution_count": 112,
   "id": "e322589b",
   "metadata": {},
   "outputs": [
    {
     "data": {
      "text/plain": [
       "{'loss': [0.5320703387260437,\n",
       "  0.4356796145439148,\n",
       "  0.4093344509601593,\n",
       "  0.3894289433956146,\n",
       "  0.3731057643890381,\n",
       "  0.36127418279647827,\n",
       "  0.35318365693092346,\n",
       "  0.3480985760688782,\n",
       "  0.3445761799812317,\n",
       "  0.3414798676967621,\n",
       "  0.3391670286655426,\n",
       "  0.33786648511886597,\n",
       "  0.336711049079895,\n",
       "  0.3352852165699005,\n",
       "  0.33472079038619995,\n",
       "  0.3336560130119324,\n",
       "  0.33273088932037354,\n",
       "  0.332314133644104,\n",
       "  0.3315606713294983,\n",
       "  0.33080390095710754,\n",
       "  0.33004069328308105,\n",
       "  0.33013373613357544,\n",
       "  0.3289710283279419,\n",
       "  0.3286276161670685,\n",
       "  0.3281051218509674,\n",
       "  0.3276779055595398,\n",
       "  0.32695308327674866,\n",
       "  0.3267025649547577,\n",
       "  0.32592159509658813,\n",
       "  0.325754851102829,\n",
       "  0.32525917887687683,\n",
       "  0.3250803053379059,\n",
       "  0.3245221972465515,\n",
       "  0.32414841651916504,\n",
       "  0.3235262334346771,\n",
       "  0.3235121965408325,\n",
       "  0.3233518600463867,\n",
       "  0.32317692041397095,\n",
       "  0.3224572241306305,\n",
       "  0.3222670257091522,\n",
       "  0.32200339436531067,\n",
       "  0.3224303126335144,\n",
       "  0.32085421681404114,\n",
       "  0.32155516743659973,\n",
       "  0.32125720381736755,\n",
       "  0.3209178149700165,\n",
       "  0.3213666081428528,\n",
       "  0.32070788741111755,\n",
       "  0.32031676173210144,\n",
       "  0.32048216462135315],\n",
       " 'accuracy': [0.7618749737739563,\n",
       "  0.8140624761581421,\n",
       "  0.8309375047683716,\n",
       "  0.8421875238418579,\n",
       "  0.8498437404632568,\n",
       "  0.8526562452316284,\n",
       "  0.8590624928474426,\n",
       "  0.8587499856948853,\n",
       "  0.8609374761581421,\n",
       "  0.8621875047683716,\n",
       "  0.8643749952316284,\n",
       "  0.8642187714576721,\n",
       "  0.8623437285423279,\n",
       "  0.8637499809265137,\n",
       "  0.86328125,\n",
       "  0.8643749952316284,\n",
       "  0.8643749952316284,\n",
       "  0.8642187714576721,\n",
       "  0.864062488079071,\n",
       "  0.8657812476158142,\n",
       "  0.8648437261581421,\n",
       "  0.8643749952316284,\n",
       "  0.8656250238418579,\n",
       "  0.8628125190734863,\n",
       "  0.8650000095367432,\n",
       "  0.8657812476158142,\n",
       "  0.8662499785423279,\n",
       "  0.8668749928474426,\n",
       "  0.8654687404632568,\n",
       "  0.8648437261581421,\n",
       "  0.8653125166893005,\n",
       "  0.8651562333106995,\n",
       "  0.8659374713897705,\n",
       "  0.8676562309265137,\n",
       "  0.8656250238418579,\n",
       "  0.866406261920929,\n",
       "  0.8662499785423279,\n",
       "  0.8665624856948853,\n",
       "  0.86328125,\n",
       "  0.8646875023841858,\n",
       "  0.8654687404632568,\n",
       "  0.8654687404632568,\n",
       "  0.8656250238418579,\n",
       "  0.8673437237739563,\n",
       "  0.8656250238418579,\n",
       "  0.8665624856948853,\n",
       "  0.864062488079071,\n",
       "  0.8662499785423279,\n",
       "  0.8659374713897705,\n",
       "  0.866406261920929],\n",
       " 'val_loss': [0.4418712854385376,\n",
       "  0.4129420816898346,\n",
       "  0.3941003382205963,\n",
       "  0.37969157099723816,\n",
       "  0.3693128526210785,\n",
       "  0.36129599809646606,\n",
       "  0.35481321811676025,\n",
       "  0.35060355067253113,\n",
       "  0.3490663766860962,\n",
       "  0.3472551107406616,\n",
       "  0.3451445400714874,\n",
       "  0.34506893157958984,\n",
       "  0.34378117322921753,\n",
       "  0.3433319926261902,\n",
       "  0.340516060590744,\n",
       "  0.34053707122802734,\n",
       "  0.34274551272392273,\n",
       "  0.33990469574928284,\n",
       "  0.34045571088790894,\n",
       "  0.3410877585411072,\n",
       "  0.34119391441345215,\n",
       "  0.3379548192024231,\n",
       "  0.3388644754886627,\n",
       "  0.33802127838134766,\n",
       "  0.33731609582901,\n",
       "  0.3381614685058594,\n",
       "  0.33838602900505066,\n",
       "  0.33787602186203003,\n",
       "  0.33954229950904846,\n",
       "  0.3370576500892639,\n",
       "  0.3382214307785034,\n",
       "  0.3372429609298706,\n",
       "  0.33822330832481384,\n",
       "  0.33691197633743286,\n",
       "  0.3376729488372803,\n",
       "  0.3361521065235138,\n",
       "  0.3366358280181885,\n",
       "  0.3364189565181732,\n",
       "  0.3375980257987976,\n",
       "  0.33965855836868286,\n",
       "  0.33754128217697144,\n",
       "  0.33746418356895447,\n",
       "  0.33988797664642334,\n",
       "  0.33767473697662354,\n",
       "  0.33674728870391846,\n",
       "  0.33940544724464417,\n",
       "  0.33699938654899597,\n",
       "  0.33701854944229126,\n",
       "  0.33937904238700867,\n",
       "  0.3380734324455261],\n",
       " 'val_accuracy': [0.8193749785423279,\n",
       "  0.8243749737739563,\n",
       "  0.8343750238418579,\n",
       "  0.840624988079071,\n",
       "  0.8456249833106995,\n",
       "  0.8456249833106995,\n",
       "  0.8550000190734863,\n",
       "  0.8587499856948853,\n",
       "  0.859375,\n",
       "  0.8618749976158142,\n",
       "  0.8643749952316284,\n",
       "  0.862500011920929,\n",
       "  0.862500011920929,\n",
       "  0.8600000143051147,\n",
       "  0.8662499785423279,\n",
       "  0.862500011920929,\n",
       "  0.8606250286102295,\n",
       "  0.862500011920929,\n",
       "  0.8606250286102295,\n",
       "  0.8587499856948853,\n",
       "  0.8612499833106995,\n",
       "  0.8662499785423279,\n",
       "  0.862500011920929,\n",
       "  0.8656250238418579,\n",
       "  0.8656250238418579,\n",
       "  0.8662499785423279,\n",
       "  0.8668749928474426,\n",
       "  0.8662499785423279,\n",
       "  0.8618749976158142,\n",
       "  0.8675000071525574,\n",
       "  0.8637499809265137,\n",
       "  0.8662499785423279,\n",
       "  0.8668749928474426,\n",
       "  0.8643749952316284,\n",
       "  0.8650000095367432,\n",
       "  0.8650000095367432,\n",
       "  0.8650000095367432,\n",
       "  0.8643749952316284,\n",
       "  0.8668749928474426,\n",
       "  0.8631250262260437,\n",
       "  0.8637499809265137,\n",
       "  0.8668749928474426,\n",
       "  0.8631250262260437,\n",
       "  0.8662499785423279,\n",
       "  0.8650000095367432,\n",
       "  0.8643749952316284,\n",
       "  0.8650000095367432,\n",
       "  0.8650000095367432,\n",
       "  0.862500011920929,\n",
       "  0.8650000095367432]}"
      ]
     },
     "execution_count": 112,
     "metadata": {},
     "output_type": "execute_result"
    }
   ],
   "source": [
    "hist.history"
   ]
  },
  {
   "cell_type": "code",
   "execution_count": 113,
   "id": "584381d6",
   "metadata": {},
   "outputs": [
    {
     "data": {
      "text/plain": [
       "[<matplotlib.lines.Line2D at 0x23aa2ba8310>]"
      ]
     },
     "execution_count": 113,
     "metadata": {},
     "output_type": "execute_result"
    },
    {
     "data": {
      "image/png": "[encoded data removed]",
      "text/plain": [
       "<Figure size 640x480 with 1 Axes>"
      ]
     },
     "metadata": {},
     "output_type": "display_data"
    }
   ],
   "source": [
    "plt.plot(hist.history['loss'])\n",
    "plt.plot(hist.history['val_loss'])"
   ]
  },
  {
   "cell_type": "code",
   "execution_count": 114,
   "id": "70c3f496",
   "metadata": {},
   "outputs": [
    {
     "data": {
      "text/plain": [
       "[<matplotlib.lines.Line2D at 0x23aa3d21410>]"
      ]
     },
     "execution_count": 114,
     "metadata": {},
     "output_type": "execute_result"
    },
    {
     "data": {
      "image/png": "[encoded data removed]",
      "text/plain": [
       "<Figure size 640x480 with 1 Axes>"
      ]
     },
     "metadata": {},
     "output_type": "display_data"
    }
   ],
   "source": [
    "plt.plot(hist.history['accuracy'])\n",
    "plt.plot(hist.history['val_accuracy'])"
   ]
  },
  {
   "cell_type": "code",
   "execution_count": null,
   "id": "32f6c334",
   "metadata": {},
   "outputs": [],
   "source": []
  }
 ],
 "metadata": {
  "kernelspec": {
   "display_name": "Python 3 (ipykernel)",
   "language": "python",
   "name": "python3"
  },
  "language_info": {
   "codemirror_mode": {
    "name": "ipython",
    "version": 3
   },
   "file_extension": ".py",
   "mimetype": "text/x-python",
   "name": "python",
   "nbconvert_exporter": "python",
   "pygments_lexer": "ipython3",
   "version": "3.11.5"
  }
 },
 "nbformat": 4,
 "nbformat_minor": 5
}
